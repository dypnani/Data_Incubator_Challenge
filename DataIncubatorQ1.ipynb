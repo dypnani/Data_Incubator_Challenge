{
 "cells": [
  {
   "cell_type": "code",
   "execution_count": 3,
   "metadata": {
    "collapsed": true
   },
   "outputs": [],
   "source": [
    "import numpy as np\n",
    "import copy\n",
    "import random"
   ]
  },
  {
   "cell_type": "code",
   "execution_count": 4,
   "metadata": {
    "collapsed": true
   },
   "outputs": [],
   "source": [
    "#let us construct a  chess board with 4*4 matrix\n",
    "chess_Board = np.array([[0,1,2,3],\n",
    "                       [4,5,6,7],\n",
    "                       [8,9,10,11],\n",
    "                       [12,13,14,15]])"
   ]
  },
  {
   "cell_type": "code",
   "execution_count": 10,
   "metadata": {
    "collapsed": true
   },
   "outputs": [],
   "source": [
    "# define a function to determine the possible position of knight given a coordinate\n",
    "def knight_positions(x,y):\n",
    "    #all the eight possible positions for a knight considering there is infinite space for it to move \n",
    "    a = np.zeros(8)\n",
    "    b = np.zeros(8)\n",
    "    a[0],b[0] = x+1,y+2\n",
    "    a[1],b[1] = x+1,y-2\n",
    "    a[2],b[2] = x-1,y+2\n",
    "    a[3],b[3] = x-1,y-2\n",
    "    a[4],b[4] = x+2,y-1\n",
    "    a[5],b[5] = x+2,y+1\n",
    "    a[6],b[6] = x-2,y-1\n",
    "    a[7],b[7] = x-2,y+1\n",
    "    #create list to store all possible positional co-ordinates\n",
    "    list_x = []\n",
    "    list_y = []\n",
    "    for k in range(8):\n",
    "        if (a[k] >= 0 and a[k] <= 3) and (b[k] >= 0 and b[k] <= 3):\n",
    "            list_x.append(a[k])\n",
    "            list_y.append(b[k])\n",
    "            \n",
    "    return list_x, list_y\n",
    "    \n",
    "                                                 \n",
    "                               "
   ]
  },
  {
   "cell_type": "code",
   "execution_count": 11,
   "metadata": {
    "collapsed": true
   },
   "outputs": [],
   "source": [
    "def knight_tracker(position,x,y,count,n,sample):\n",
    "    key = int(chess_Board[x][y])\n",
    "    position[key].append(count)\n",
    "    if count == n:\n",
    "        Sum = []\n",
    "        for i in position:\n",
    "            if position[i] != []:\n",
    "                length = len(position[i])\n",
    "                Sum.append(i*length)\n",
    "        sample.append(sum(Sum))\n",
    "        return\n",
    "    list_x,list_y = knight_positions(x,y)\n",
    "    for k in range(len(list_x)):\n",
    "        n_x = int(list_x[k])\n",
    "        n_y = int(list_y[k])\n",
    "        temp = copy.deepcopy(position)\n",
    "        knight_tracker(position,n_x,n_y,count+1,n,sample)\n",
    "        position = temp\n",
    "    return sample\n",
    "              "
   ]
  },
  {
   "cell_type": "code",
   "execution_count": 12,
   "metadata": {
    "collapsed": true
   },
   "outputs": [],
   "source": [
    "def number_of_moves(n):\n",
    "    sample = []\n",
    "    position =  { 0:[],  1:[],  2:[],  3:[],\n",
    "                  4:[],  5:[],  6:[],  7:[],\n",
    "                  8:[],  9:[], 10:[], 11:[],\n",
    "                 12:[], 13:[], 14:[], 15:[]}\n",
    "    x = 0\n",
    "    y = 0\n",
    "    count = 0;\n",
    "    sample = knight_tracker(position,x,y,count,n,sample)\n",
    "    return  sample \n",
    "    "
   ]
  },
  {
   "cell_type": "code",
   "execution_count": 124,
   "metadata": {
    "collapsed": true
   },
   "outputs": [],
   "source": [
    "#get the list samples for given number of moves which is 16\n",
    "S = number_of_moves(16)\n"
   ]
  },
  {
   "cell_type": "code",
   "execution_count": 290,
   "metadata": {
    "collapsed": true
   },
   "outputs": [],
   "source": [
    "#S_modulo_13\n",
    "result_16 = np.array(S) % 13"
   ]
  },
  {
   "cell_type": "code",
   "execution_count": 291,
   "metadata": {
    "collapsed": true
   },
   "outputs": [],
   "source": [
    "#After T=16 moves, what is the mean of the quantity S modulo 13? and standard deviation\n",
    "mean_16 = np.mean(result_16)\n",
    "std_16 = np.std(result_16)"
   ]
  },
  {
   "cell_type": "code",
   "execution_count": 292,
   "metadata": {},
   "outputs": [
    {
     "name": "stdout",
     "output_type": "stream",
     "text": [
      "5.98142386337\n"
     ]
    }
   ],
   "source": [
    "print (mean_16)"
   ]
  },
  {
   "cell_type": "code",
   "execution_count": 293,
   "metadata": {},
   "outputs": [
    {
     "name": "stdout",
     "output_type": "stream",
     "text": [
      "3.74082329373\n"
     ]
    }
   ],
   "source": [
    "print (std_16)"
   ]
  },
  {
   "cell_type": "code",
   "execution_count": null,
   "metadata": {
    "collapsed": true
   },
   "outputs": [],
   "source": [
    "T = np.array(S) \n",
    "N = len(T)\n",
    "div_13 = N - np.count_nonzero((T % 13))\n",
    "div_5 = N - np.count_nonzero((T % 5))\n",
    "div_65 = N - np.count_nonzero((T % 65))\n",
    "prob_div_13 = div_13/N\n",
    "prob_div_5 = div_5/N\n",
    "prob_div_65 = div_65/N"
   ]
  },
  {
   "cell_type": "code",
   "execution_count": null,
   "metadata": {
    "collapsed": true
   },
   "outputs": [],
   "source": [
    "Prob_5_by_13 = prob_div_65/prob_div_13"
   ]
  },
  {
   "cell_type": "code",
   "execution_count": null,
   "metadata": {
    "collapsed": true
   },
   "outputs": [],
   "source": [
    "print (Prob_5_by_13)"
   ]
  },
  {
   "cell_type": "code",
   "execution_count": 7,
   "metadata": {
    "collapsed": true
   },
   "outputs": [],
   "source": [
    "#Realized the futality of runnning it for all possible combinations of 512 moves after\n",
    "#pushing the system for a day. Even supposing a small possible 2 possible moves at each\n",
    "#square will make it aproblem of tracking 2^512 possible combinations which is a futile\n",
    "#exercise with normal computer.\n",
    "#Conclusion: It proved a prudent approact to take a large smaple and use \n",
    "#idea of central limit theorom to predict the population mean and standard deviation.\n",
    "#thus tried to implement it with some change in the code"
   ]
  },
  {
   "cell_type": "code",
   "execution_count": 8,
   "metadata": {
    "collapsed": true
   },
   "outputs": [],
   "source": [
    "#create a reverse order for chess board\n",
    "reverse = { 0:[0,0],  1:[0,1],  2:[0,2],  3:[0,3],\n",
    "            4:[1,0],  5:[1,1],  6:[1,2],  7:[1,3],\n",
    "            8:[2,0],  9:[2,1], 10:[2,2], 11:[2,3],\n",
    "           12:[3,0], 13:[3,1], 14:[3,2], 15:[3,3]}"
   ]
  },
  {
   "cell_type": "code",
   "execution_count": 5,
   "metadata": {
    "collapsed": true
   },
   "outputs": [],
   "source": [
    "def sampling_knight_positions(x,y):\n",
    "    #all the eight possible positions for a knight considering there is infinite space for it to move \n",
    "    a = np.zeros(8)\n",
    "    b = np.zeros(8)\n",
    "    a[0],b[0] = x+1,y+2\n",
    "    a[1],b[1] = x+1,y-2\n",
    "    a[2],b[2] = x-1,y+2\n",
    "    a[3],b[3] = x-1,y-2\n",
    "    a[4],b[4] = x+2,y-1\n",
    "    a[5],b[5] = x+2,y+1\n",
    "    a[6],b[6] = x-2,y-1\n",
    "    a[7],b[7] = x-2,y+1\n",
    "    #create list to store all possible positional co-ordinates\n",
    "    list_x = []\n",
    "    list_y = []\n",
    "    for k in range(8):\n",
    "        if (a[k] >= 0 and a[k] <= 3) and (b[k] >= 0 and b[k] <= 3):\n",
    "            list_x.append(a[k])\n",
    "            list_y.append(b[k])\n",
    "    keys = []\n",
    "    for j in range(len(list_x)):\n",
    "            x = int(list_x[j])\n",
    "            y = int(list_y[j])\n",
    "            square = int(chess_Board[x][y])\n",
    "            keys.append(square)        \n",
    "    return keys\n",
    "    "
   ]
  },
  {
   "cell_type": "code",
   "execution_count": 9,
   "metadata": {},
   "outputs": [
    {
     "data": {
      "text/plain": [
       "[1, 2]"
      ]
     },
     "execution_count": 9,
     "metadata": {},
     "output_type": "execute_result"
    }
   ],
   "source": [
    "reverse[6]\n"
   ]
  },
  {
   "cell_type": "code",
   "execution_count": 10,
   "metadata": {},
   "outputs": [
    {
     "data": {
      "text/plain": [
       "6"
      ]
     },
     "execution_count": 10,
     "metadata": {},
     "output_type": "execute_result"
    }
   ],
   "source": [
    "chess_Board[1][2]"
   ]
  },
  {
   "cell_type": "code",
   "execution_count": 12,
   "metadata": {},
   "outputs": [],
   "source": [
    "def sampling_knight_tracker(x,y,n):\n",
    "    count = 0\n",
    "    moves = [0]\n",
    "    while (count < n):\n",
    "        keys = sampling_knight_positions(x,y)\n",
    "        count = count + 1\n",
    "        next_key = random.choice(keys)\n",
    "        moves.append(next_key)\n",
    "        list_x_y = reverse[next_key]\n",
    "        x,y = list_x_y[0],list_x_y[1]\n",
    "    return  moves"
   ]
  },
  {
   "cell_type": "code",
   "execution_count": 28,
   "metadata": {
    "collapsed": true
   },
   "outputs": [],
   "source": [
    "def sampling_number_of_moves(n,size,No_Samples):\n",
    "    Samples = []\n",
    "    for j in range(No_Samples):\n",
    "        S = [] \n",
    "        x = 0\n",
    "        y = 0\n",
    "        for i in range(size):\n",
    "            moves = sampling_knight_tracker(x,y,n)\n",
    "            SUM = sum(moves)\n",
    "            S.append(SUM)\n",
    "        Samples.append(S)\n",
    "    return Samples"
   ]
  },
  {
   "cell_type": "code",
   "execution_count": 29,
   "metadata": {},
   "outputs": [],
   "source": [
    "#get a sample size of 1024  for 512 moves and get 100 samples\n",
    "Samples = sampling_number_of_moves(512,1024,100)"
   ]
  },
  {
   "cell_type": "code",
   "execution_count": 30,
   "metadata": {
    "collapsed": true
   },
   "outputs": [],
   "source": [
    "Means = []\n",
    "for i in range(100):\n",
    "    sample = Samples[i]\n",
    "    sample = np.array(sample) % 311\n",
    "    mean = np.mean(sample)\n",
    "    Means.append(mean)\n",
    "mean_of_512_311 = sum(Means)/len(Means)   \n",
    "    "
   ]
  },
  {
   "cell_type": "code",
   "execution_count": 31,
   "metadata": {},
   "outputs": [
    {
     "name": "stdout",
     "output_type": "stream",
     "text": [
      "139.528955078\n"
     ]
    }
   ],
   "source": [
    "print (mean_of_512_311)"
   ]
  },
  {
   "cell_type": "code",
   "execution_count": 34,
   "metadata": {},
   "outputs": [
    {
     "data": {
      "text/plain": [
       "100"
      ]
     },
     "execution_count": 34,
     "metadata": {},
     "output_type": "execute_result"
    }
   ],
   "source": [
    "len(Means)"
   ]
  },
  {
   "cell_type": "code",
   "execution_count": 32,
   "metadata": {
    "collapsed": true
   },
   "outputs": [],
   "source": [
    "# we have std(population)/sqrt(n)= std(sample_means)\n",
    "std_512_311 = np.std(np.array(Means))*np.sqrt(100)"
   ]
  },
  {
   "cell_type": "code",
   "execution_count": 33,
   "metadata": {},
   "outputs": [
    {
     "name": "stdout",
     "output_type": "stream",
     "text": [
      "23.6894302337\n"
     ]
    }
   ],
   "source": [
    "print (std_512_311)"
   ]
  },
  {
   "cell_type": "code",
   "execution_count": 306,
   "metadata": {
    "collapsed": true
   },
   "outputs": [],
   "source": [
    "T = np.array() \n",
    "N = len(T)\n",
    "div_13 = N - np.count_nonzero((T % 13))\n",
    "div_5 = N - np.count_nonzero((T % 5))\n",
    "div_65 = N - np.count_nonzero((T % 65))\n",
    "prob_div_13 = div_13/N\n",
    "prob_div_5 = div_5/N\n",
    "prob_div_65 = div_65/N"
   ]
  },
  {
   "cell_type": "code",
   "execution_count": 307,
   "metadata": {
    "collapsed": true
   },
   "outputs": [],
   "source": [
    "Prob_5_by_13 = prob_div_65/prob_div_13"
   ]
  },
  {
   "cell_type": "code",
   "execution_count": 308,
   "metadata": {},
   "outputs": [
    {
     "name": "stdout",
     "output_type": "stream",
     "text": [
      "0.2757314766227167\n"
     ]
    }
   ],
   "source": [
    "print (Prob_5_by_13)"
   ]
  },
  {
   "cell_type": "code",
   "execution_count": 42,
   "metadata": {},
   "outputs": [],
   "source": [
    "Probs = []\n",
    "for i in range(100):\n",
    "    T = np.array(Samples[i]) \n",
    "    N = len(T)\n",
    "    div_7 = N - np.count_nonzero((T % 7))\n",
    "    div_43 = N - np.count_nonzero((T % 43))\n",
    "    div_301 = N - np.count_nonzero((T % 301))\n",
    "    prob_div_7 = div_7/N\n",
    "    prob_div_43 = div_43/N\n",
    "    prob_div_301 = div_301/N\n",
    "    prob_7_by_43 = prob_div_301/prob_div_43\n",
    "    Probs.append(prob_7_by_43)"
   ]
  },
  {
   "cell_type": "code",
   "execution_count": null,
   "metadata": {
    "collapsed": true
   },
   "outputs": [],
   "source": [
    "probs"
   ]
  },
  {
   "cell_type": "code",
   "execution_count": 52,
   "metadata": {},
   "outputs": [],
   "source": [
    "Prob_7_by_43 = np.mean(np.array(Probs))"
   ]
  },
  {
   "cell_type": "code",
   "execution_count": 53,
   "metadata": {},
   "outputs": [
    {
     "name": "stdout",
     "output_type": "stream",
     "text": [
      "0.155486345117\n"
     ]
    }
   ],
   "source": [
    "print (Prob_7_by_43)"
   ]
  },
  {
   "cell_type": "code",
   "execution_count": null,
   "metadata": {
    "collapsed": true
   },
   "outputs": [],
   "source": []
  }
 ],
 "metadata": {
  "kernelspec": {
   "display_name": "Python 3",
   "language": "python",
   "name": "python3"
  },
  "language_info": {
   "codemirror_mode": {
    "name": "ipython",
    "version": 3
   },
   "file_extension": ".py",
   "mimetype": "text/x-python",
   "name": "python",
   "nbconvert_exporter": "python",
   "pygments_lexer": "ipython3",
   "version": "3.6.3"
  }
 },
 "nbformat": 4,
 "nbformat_minor": 2
}
