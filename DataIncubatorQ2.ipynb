{
 "cells": [
  {
   "cell_type": "code",
   "execution_count": 190,
   "metadata": {
    "collapsed": true
   },
   "outputs": [],
   "source": [
    "import pandas as pd\n",
    "import numpy as np\n",
    "import datetime as dt\n",
    "pd.options.mode.chained_assignment = None\n",
    "import sklearn\n",
    "from sklearn import linear_model\n",
    "from scipy.optimize import curve_fit\n",
    "import math\n"
   ]
  },
  {
   "cell_type": "code",
   "execution_count": 28,
   "metadata": {
    "collapsed": true
   },
   "outputs": [],
   "source": [
    "df_accidents = pd.read_csv(\"Accidents0514.csv\",low_memory=False)\n",
    "df_casualities = pd.read_csv(\"Casualties0514.csv\",low_memory=False)\n",
    "df_vehicles = pd.read_csv(\"Vehicles0514.csv\",low_memory=False)"
   ]
  },
  {
   "cell_type": "code",
   "execution_count": null,
   "metadata": {},
   "outputs": [],
   "source": [
    "df_accidents.info()"
   ]
  },
  {
   "cell_type": "code",
   "execution_count": null,
   "metadata": {},
   "outputs": [],
   "source": [
    "#What fraction of accidents occur in urban areas?\n",
    "df_accidents[\"Urban_or_Rural_Area\"].unique()\n",
    "\n"
   ]
  },
  {
   "cell_type": "code",
   "execution_count": null,
   "metadata": {
    "collapsed": true
   },
   "outputs": [],
   "source": [
    "#as we could see there are three unique values for Urban_or_Rural_Area and urban = 1 from data information sheet\n",
    "#now group by \"Urban_or_Rural_Area\" to get counts for each area\n",
    "area_count =df_accidents.groupby([\"Urban_or_Rural_Area\"])[\"Accident_Index\"].count()"
   ]
  },
  {
   "cell_type": "code",
   "execution_count": null,
   "metadata": {},
   "outputs": [],
   "source": [
    "area_count"
   ]
  },
  {
   "cell_type": "code",
   "execution_count": null,
   "metadata": {
    "collapsed": true
   },
   "outputs": [],
   "source": [
    "#create a list \n",
    "list_area_count= list(area_count)"
   ]
  },
  {
   "cell_type": "code",
   "execution_count": null,
   "metadata": {
    "collapsed": true
   },
   "outputs": [],
   "source": [
    "#now fraction of accidents in urban area were uraban is first element in list\n",
    "frac_accidents_urban = list_area_count[0]/sum(list_area_count)"
   ]
  },
  {
   "cell_type": "code",
   "execution_count": null,
   "metadata": {},
   "outputs": [],
   "source": [
    "print (frac_accidents_urban) "
   ]
  },
  {
   "cell_type": "code",
   "execution_count": null,
   "metadata": {
    "collapsed": true
   },
   "outputs": [],
   "source": [
    "#drop all the null values in Time column\n",
    "data = df_accidents.dropna(subset=['Time'])"
   ]
  },
  {
   "cell_type": "code",
   "execution_count": null,
   "metadata": {
    "collapsed": true
   },
   "outputs": [],
   "source": [
    "def hour(x):\n",
    "    return x[0]\n",
    "def minute(x):\n",
    "    return x[1]\n",
    "def combine(x):\n",
    "    return x[0]+x[1]"
   ]
  },
  {
   "cell_type": "code",
   "execution_count": null,
   "metadata": {
    "collapsed": true
   },
   "outputs": [],
   "source": [
    "data[\"Time_Hour\"] = data[\"Time\"].str.split(\":\").apply(hour)\n",
    "data[\"Time_Min\"] = data[\"Time\"].str.split(\":\").apply(minute)\n",
    "data[\"Time_Combined\"] = data[\"Time\"].str.split(\":\").apply(combine)"
   ]
  },
  {
   "cell_type": "code",
   "execution_count": null,
   "metadata": {
    "collapsed": true
   },
   "outputs": [],
   "source": [
    "group_hour = data.groupby([\"Time_Hour\"])"
   ]
  },
  {
   "cell_type": "code",
   "execution_count": null,
   "metadata": {
    "collapsed": true
   },
   "outputs": [],
   "source": [
    "#list of total number of accidents each hour from 00 to 23\n",
    "total_per_hour = list(group_hour[\"Time_Combined\"].count())"
   ]
  },
  {
   "cell_type": "code",
   "execution_count": null,
   "metadata": {
    "collapsed": true
   },
   "outputs": [],
   "source": [
    "group_time = data.groupby([\"Time_Combined\"])[\"Time_Hour\"]"
   ]
  },
  {
   "cell_type": "code",
   "execution_count": null,
   "metadata": {},
   "outputs": [],
   "source": [
    "dict_grp_time = dict(list(group_time))\n",
    "len(dict_grp_time)"
   ]
  },
  {
   "cell_type": "code",
   "execution_count": null,
   "metadata": {
    "collapsed": true
   },
   "outputs": [],
   "source": [
    "#calculate the frequency for each distinct timeunit\n",
    "max_frequency = 0\n",
    "max_time = 0\n",
    "for key in dict_grp_time:\n",
    "    two_digit=[]\n",
    "    frequency = 0\n",
    "    i = 0\n",
    "    two_digit.append(key[i])\n",
    "    two_digit.append(key[i+1])\n",
    "    num_accidents_time = len(dict_grp_time[key])\n",
    "    num_accidents_hour = total_per_hour[int(\"\".join(two_digit))]  \n",
    "    frequency = (num_accidents_time/num_accidents_hour)\n",
    "    if max_frequency <  frequency:\n",
    "        max_frequency = frequency\n",
    "        max_time = key\n",
    "    \n",
    "    "
   ]
  },
  {
   "cell_type": "code",
   "execution_count": null,
   "metadata": {},
   "outputs": [],
   "source": [
    "#submit the corresponding highest frequency of fatal accidents to all accidents in that hour\n",
    "print (max_frequency)"
   ]
  },
  {
   "cell_type": "code",
   "execution_count": null,
   "metadata": {},
   "outputs": [],
   "source": [
    "#the corresponding most dangerous time to drive is\n",
    "print (max_time[0:2]+\":\"+ max_time[2:4])"
   ]
  },
  {
   "cell_type": "code",
   "execution_count": null,
   "metadata": {},
   "outputs": [],
   "source": [
    "#get the year attribute from the date \n",
    "df_accidents[\"Year\"] = pd.to_datetime(df_accidents[\"Date\"]).dt.year"
   ]
  },
  {
   "cell_type": "code",
   "execution_count": null,
   "metadata": {
    "collapsed": true
   },
   "outputs": [],
   "source": [
    "group_year = df_accidents.groupby([\"Year\"])[\"Accident_Index\"]"
   ]
  },
  {
   "cell_type": "code",
   "execution_count": null,
   "metadata": {
    "collapsed": true
   },
   "outputs": [],
   "source": [
    "dict_year = dict(list(group_year)) "
   ]
  },
  {
   "cell_type": "code",
   "execution_count": null,
   "metadata": {
    "collapsed": true
   },
   "outputs": [],
   "source": [
    "year = []\n",
    "accident_number = []\n",
    "for key in dict_year:\n",
    "    year.append(key)\n",
    "    accident_number.append(len(dict_year[key]))\n"
   ]
  },
  {
   "cell_type": "code",
   "execution_count": null,
   "metadata": {},
   "outputs": [],
   "source": [
    "year"
   ]
  },
  {
   "cell_type": "code",
   "execution_count": null,
   "metadata": {},
   "outputs": [],
   "source": [
    "accident_number"
   ]
  },
  {
   "cell_type": "code",
   "execution_count": null,
   "metadata": {
    "collapsed": true
   },
   "outputs": [],
   "source": [
    "rgr = linear_model.LinearRegression()"
   ]
  },
  {
   "cell_type": "code",
   "execution_count": null,
   "metadata": {
    "collapsed": true
   },
   "outputs": [],
   "source": [
    "model = rgr.fit(np.array(year).reshape(-1,1),np.array(accident_number))"
   ]
  },
  {
   "cell_type": "code",
   "execution_count": null,
   "metadata": {},
   "outputs": [],
   "source": [
    "#thus the slope is given by\n",
    "print (model.coef_[0])"
   ]
  },
  {
   "cell_type": "code",
   "execution_count": null,
   "metadata": {},
   "outputs": [],
   "source": [
    "year\n"
   ]
  },
  {
   "cell_type": "code",
   "execution_count": null,
   "metadata": {
    "collapsed": true
   },
   "outputs": [],
   "source": [
    "# create a list of count of accidents by speed limit\n",
    "accidents = list(df_accidents.groupby([\"Speed_limit\"])[\"Accident_Index\"].count())"
   ]
  },
  {
   "cell_type": "code",
   "execution_count": null,
   "metadata": {
    "collapsed": true
   },
   "outputs": [],
   "source": [
    "# create a list of sum of casulaities by speed limit\n",
    "casualities = list(df_accidents.groupby([\"Speed_limit\"])[\"Number_of_Casualties\"].sum())"
   ]
  },
  {
   "cell_type": "code",
   "execution_count": null,
   "metadata": {},
   "outputs": [],
   "source": [
    "casualities"
   ]
  },
  {
   "cell_type": "code",
   "execution_count": null,
   "metadata": {},
   "outputs": [],
   "source": [
    "accidents"
   ]
  },
  {
   "cell_type": "code",
   "execution_count": null,
   "metadata": {
    "collapsed": true
   },
   "outputs": [],
   "source": [
    "#now get the ratio of casualities_by_accidentsper speed_limit\n",
    "casualities_by_accidents = np.array(casualities)/np.array(accidents )"
   ]
  },
  {
   "cell_type": "code",
   "execution_count": null,
   "metadata": {},
   "outputs": [],
   "source": [
    "casualities_by_accidents"
   ]
  },
  {
   "cell_type": "code",
   "execution_count": null,
   "metadata": {
    "collapsed": true
   },
   "outputs": [],
   "source": [
    "#get the unique values for speed limit\n",
    "speed_limit = np.array(sorted(list(df_accidents[\"Speed_limit\"].unique())))"
   ]
  },
  {
   "cell_type": "code",
   "execution_count": null,
   "metadata": {},
   "outputs": [],
   "source": [
    "speed_limit"
   ]
  },
  {
   "cell_type": "code",
   "execution_count": null,
   "metadata": {
    "collapsed": true
   },
   "outputs": [],
   "source": [
    "#create a dataframe with two colums for correlation computaion\n",
    "df = pd.DataFrame({'x':speed_limit , 'y':casualities_by_accidents})"
   ]
  },
  {
   "cell_type": "code",
   "execution_count": null,
   "metadata": {},
   "outputs": [],
   "source": [
    "#now get the pearson correlation coefficient\n",
    "print (df['x'].corr(df['y']))"
   ]
  },
  {
   "cell_type": "code",
   "execution_count": 76,
   "metadata": {
    "collapsed": true
   },
   "outputs": [],
   "source": [
    "#merge the accidents and vehicles data for skid, jacknifed and overturned\n",
    "df_merged_av = pd.merge(df_accidents, df_vehicles, on=['Accident_Index'])"
   ]
  },
  {
   "cell_type": "code",
   "execution_count": 81,
   "metadata": {},
   "outputs": [],
   "source": [
    "#extract the data with rain or snow and fine with no winds seperately\n",
    "df_snow_rain = df_merged_av[(df_merged_av.Weather_Conditions == 2)|(df_merged_av.Weather_Conditions == 3)|(df_merged_av.Weather_Conditions == 5)|(df_merged_av.Weather_Conditions == 6)]\n",
    "df_fine_nhw = df_merged_av[df_merged_av.Weather_Conditions == 1]"
   ]
  },
  {
   "cell_type": "code",
   "execution_count": 91,
   "metadata": {},
   "outputs": [],
   "source": [
    "#group by skidding_overturning\n",
    "dict_sr_so = dict(list(df_snow_rain.groupby([\"Skidding_and_Overturning\"])[\"Weather_Conditions\"]))\n",
    "dict_fnhw_so = dict(list(df_fine_nhw.groupby([\"Skidding_and_Overturning\"])[\"Weather_Conditions\"]))"
   ]
  },
  {
   "cell_type": "code",
   "execution_count": 93,
   "metadata": {
    "collapsed": true
   },
   "outputs": [],
   "source": [
    "r_snow_rain= (len(dict_sr_so[1])+len(dict_sr_so[2])+len(dict_sr_so[3])+len(dict_sr_so[4])+len(dict_sr_so[5]))/len(dict_sr_so[0])"
   ]
  },
  {
   "cell_type": "code",
   "execution_count": 96,
   "metadata": {},
   "outputs": [],
   "source": [
    "r_fnhw = (len(dict_fnhw_so[1])+len(dict_fnhw_so[2])+len(dict_fnhw_so[3])+len(dict_fnhw_so[4])+len(dict_fnhw_so[5]))/len(dict_fnhw_so[0])"
   ]
  },
  {
   "cell_type": "code",
   "execution_count": 99,
   "metadata": {},
   "outputs": [],
   "source": [
    "ratio_sr_fnhw = r_snow_rain/r_fnhw "
   ]
  },
  {
   "cell_type": "code",
   "execution_count": 100,
   "metadata": {},
   "outputs": [
    {
     "name": "stdout",
     "output_type": "stream",
     "text": [
      "1.9867686197709724\n"
     ]
    }
   ],
   "source": [
    "print (ratio_sr_fnhw)"
   ]
  },
  {
   "cell_type": "code",
   "execution_count": 98,
   "metadata": {},
   "outputs": [
    {
     "data": {
      "text/plain": [
       "Skidding_and_Overturning\n",
       "-1         91\n",
       " 0    2124043\n",
       " 1     200875\n",
       " 2      43691\n",
       " 3        897\n",
       " 4        567\n",
       " 5      35770\n",
       "Name: Weather_Conditions, dtype: int64"
      ]
     },
     "execution_count": 98,
     "metadata": {},
     "output_type": "execute_result"
    }
   ],
   "source": [
    "df_fine_nhw.groupby([\"Skidding_and_Overturning\"])[\"Weather_Conditions\"].count()"
   ]
  },
  {
   "cell_type": "code",
   "execution_count": 64,
   "metadata": {},
   "outputs": [],
   "source": [
    "#merge the vehicles and casualities data for sex fatality detection\n",
    "df_merged_vc = pd.merge(df_vehicles,df_casualities, on=['Accident_Index', 'Vehicle_Reference'])\n"
   ]
  },
  {
   "cell_type": "code",
   "execution_count": 66,
   "metadata": {
    "collapsed": true
   },
   "outputs": [],
   "source": [
    "#extarct only rows with car vehicle type = 9\n",
    "df_car = df_merged_vc[df_merged_vc.Vehicle_Type == 9]"
   ]
  },
  {
   "cell_type": "code",
   "execution_count": 67,
   "metadata": {},
   "outputs": [],
   "source": [
    "#extract only rows with Cmale and female seperately\n",
    "df_male = df_car[df_car.Sex_of_Driver == 1]\n",
    "df_female = df_car[df_car.Sex_of_Driver == 2]"
   ]
  },
  {
   "cell_type": "code",
   "execution_count": 68,
   "metadata": {},
   "outputs": [],
   "source": [
    "#extract only rows with Casualty_Severity = Fatal = 1\n",
    "dict_male = dict(list(df_male.groupby([\"Casualty_Severity\"])))\n",
    "dict_female = dict(list(df_female.groupby([\"Casualty_Severity\"])))"
   ]
  },
  {
   "cell_type": "code",
   "execution_count": 69,
   "metadata": {},
   "outputs": [
    {
     "data": {
      "text/html": [
       "<div>\n",
       "<style>\n",
       "    .dataframe thead tr:only-child th {\n",
       "        text-align: right;\n",
       "    }\n",
       "\n",
       "    .dataframe thead th {\n",
       "        text-align: left;\n",
       "    }\n",
       "\n",
       "    .dataframe tbody tr th {\n",
       "        vertical-align: top;\n",
       "    }\n",
       "</style>\n",
       "<table border=\"1\" class=\"dataframe\">\n",
       "  <thead>\n",
       "    <tr style=\"text-align: right;\">\n",
       "      <th></th>\n",
       "      <th>Accident_Index</th>\n",
       "      <th>Vehicle_Reference</th>\n",
       "      <th>Vehicle_Type</th>\n",
       "      <th>Towing_and_Articulation</th>\n",
       "      <th>Vehicle_Manoeuvre</th>\n",
       "      <th>Vehicle_Location-Restricted_Lane</th>\n",
       "      <th>Junction_Location</th>\n",
       "      <th>Skidding_and_Overturning</th>\n",
       "      <th>Hit_Object_in_Carriageway</th>\n",
       "      <th>Vehicle_Leaving_Carriageway</th>\n",
       "      <th>...</th>\n",
       "      <th>Sex_of_Casualty</th>\n",
       "      <th>Age_of_Casualty</th>\n",
       "      <th>Age_Band_of_Casualty</th>\n",
       "      <th>Pedestrian_Location</th>\n",
       "      <th>Pedestrian_Movement</th>\n",
       "      <th>Car_Passenger</th>\n",
       "      <th>Bus_or_Coach_Passenger</th>\n",
       "      <th>Pedestrian_Road_Maintenance_Worker</th>\n",
       "      <th>Casualty_Type</th>\n",
       "      <th>Casualty_Home_Area_Type</th>\n",
       "    </tr>\n",
       "    <tr>\n",
       "      <th>Casualty_Severity</th>\n",
       "      <th></th>\n",
       "      <th></th>\n",
       "      <th></th>\n",
       "      <th></th>\n",
       "      <th></th>\n",
       "      <th></th>\n",
       "      <th></th>\n",
       "      <th></th>\n",
       "      <th></th>\n",
       "      <th></th>\n",
       "      <th></th>\n",
       "      <th></th>\n",
       "      <th></th>\n",
       "      <th></th>\n",
       "      <th></th>\n",
       "      <th></th>\n",
       "      <th></th>\n",
       "      <th></th>\n",
       "      <th></th>\n",
       "      <th></th>\n",
       "      <th></th>\n",
       "    </tr>\n",
       "  </thead>\n",
       "  <tbody>\n",
       "    <tr>\n",
       "      <th>1</th>\n",
       "      <td>3291</td>\n",
       "      <td>3291</td>\n",
       "      <td>3291</td>\n",
       "      <td>3291</td>\n",
       "      <td>3291</td>\n",
       "      <td>3291</td>\n",
       "      <td>3291</td>\n",
       "      <td>3291</td>\n",
       "      <td>3291</td>\n",
       "      <td>3291</td>\n",
       "      <td>...</td>\n",
       "      <td>3291</td>\n",
       "      <td>3291</td>\n",
       "      <td>3291</td>\n",
       "      <td>3291</td>\n",
       "      <td>3291</td>\n",
       "      <td>3291</td>\n",
       "      <td>3291</td>\n",
       "      <td>3291</td>\n",
       "      <td>3291</td>\n",
       "      <td>3291</td>\n",
       "    </tr>\n",
       "    <tr>\n",
       "      <th>2</th>\n",
       "      <td>44290</td>\n",
       "      <td>44290</td>\n",
       "      <td>44290</td>\n",
       "      <td>44290</td>\n",
       "      <td>44290</td>\n",
       "      <td>44290</td>\n",
       "      <td>44290</td>\n",
       "      <td>44290</td>\n",
       "      <td>44290</td>\n",
       "      <td>44290</td>\n",
       "      <td>...</td>\n",
       "      <td>44290</td>\n",
       "      <td>44290</td>\n",
       "      <td>44290</td>\n",
       "      <td>44290</td>\n",
       "      <td>44290</td>\n",
       "      <td>44290</td>\n",
       "      <td>44290</td>\n",
       "      <td>44290</td>\n",
       "      <td>44290</td>\n",
       "      <td>44290</td>\n",
       "    </tr>\n",
       "    <tr>\n",
       "      <th>3</th>\n",
       "      <td>591724</td>\n",
       "      <td>591724</td>\n",
       "      <td>591724</td>\n",
       "      <td>591724</td>\n",
       "      <td>591724</td>\n",
       "      <td>591724</td>\n",
       "      <td>591724</td>\n",
       "      <td>591724</td>\n",
       "      <td>591724</td>\n",
       "      <td>591724</td>\n",
       "      <td>...</td>\n",
       "      <td>591724</td>\n",
       "      <td>591724</td>\n",
       "      <td>591724</td>\n",
       "      <td>591724</td>\n",
       "      <td>591724</td>\n",
       "      <td>591724</td>\n",
       "      <td>591724</td>\n",
       "      <td>591724</td>\n",
       "      <td>591724</td>\n",
       "      <td>591724</td>\n",
       "    </tr>\n",
       "  </tbody>\n",
       "</table>\n",
       "<p>3 rows × 34 columns</p>\n",
       "</div>"
      ],
      "text/plain": [
       "                   Accident_Index  Vehicle_Reference  Vehicle_Type  \\\n",
       "Casualty_Severity                                                    \n",
       "1                            3291               3291          3291   \n",
       "2                           44290              44290         44290   \n",
       "3                          591724             591724        591724   \n",
       "\n",
       "                   Towing_and_Articulation  Vehicle_Manoeuvre  \\\n",
       "Casualty_Severity                                               \n",
       "1                                     3291               3291   \n",
       "2                                    44290              44290   \n",
       "3                                   591724             591724   \n",
       "\n",
       "                   Vehicle_Location-Restricted_Lane  Junction_Location  \\\n",
       "Casualty_Severity                                                        \n",
       "1                                              3291               3291   \n",
       "2                                             44290              44290   \n",
       "3                                            591724             591724   \n",
       "\n",
       "                   Skidding_and_Overturning  Hit_Object_in_Carriageway  \\\n",
       "Casualty_Severity                                                        \n",
       "1                                      3291                       3291   \n",
       "2                                     44290                      44290   \n",
       "3                                    591724                     591724   \n",
       "\n",
       "                   Vehicle_Leaving_Carriageway           ...             \\\n",
       "Casualty_Severity                                        ...              \n",
       "1                                         3291           ...              \n",
       "2                                        44290           ...              \n",
       "3                                       591724           ...              \n",
       "\n",
       "                   Sex_of_Casualty  Age_of_Casualty  Age_Band_of_Casualty  \\\n",
       "Casualty_Severity                                                           \n",
       "1                             3291             3291                  3291   \n",
       "2                            44290            44290                 44290   \n",
       "3                           591724           591724                591724   \n",
       "\n",
       "                   Pedestrian_Location  Pedestrian_Movement  Car_Passenger  \\\n",
       "Casualty_Severity                                                            \n",
       "1                                 3291                 3291           3291   \n",
       "2                                44290                44290          44290   \n",
       "3                               591724               591724         591724   \n",
       "\n",
       "                   Bus_or_Coach_Passenger  Pedestrian_Road_Maintenance_Worker  \\\n",
       "Casualty_Severity                                                               \n",
       "1                                    3291                                3291   \n",
       "2                                   44290                               44290   \n",
       "3                                  591724                              591724   \n",
       "\n",
       "                   Casualty_Type  Casualty_Home_Area_Type  \n",
       "Casualty_Severity                                          \n",
       "1                           3291                     3291  \n",
       "2                          44290                    44290  \n",
       "3                         591724                   591724  \n",
       "\n",
       "[3 rows x 34 columns]"
      ]
     },
     "execution_count": 69,
     "metadata": {},
     "output_type": "execute_result"
    }
   ],
   "source": [
    "df_female.groupby([\"Casualty_Severity\"]).count()"
   ]
  },
  {
   "cell_type": "code",
   "execution_count": 70,
   "metadata": {},
   "outputs": [],
   "source": [
    "#male 1 and female 2\n",
    "male_rate = len(dict_male[1])/(len(dict_male[1])+len(dict_male[2])+len(dict_male[3]))"
   ]
  },
  {
   "cell_type": "code",
   "execution_count": 71,
   "metadata": {},
   "outputs": [],
   "source": [
    "female_rate = len(dict_female[1])/(len(dict_female[1])+len(dict_female[2])+len(dict_female[3]))"
   ]
  },
  {
   "cell_type": "code",
   "execution_count": 72,
   "metadata": {},
   "outputs": [
    {
     "data": {
      "text/plain": [
       "0.005147777664807877"
      ]
     },
     "execution_count": 72,
     "metadata": {},
     "output_type": "execute_result"
    }
   ],
   "source": [
    "female_rate"
   ]
  },
  {
   "cell_type": "code",
   "execution_count": 73,
   "metadata": {
    "collapsed": true
   },
   "outputs": [],
   "source": [
    "ratio_maleFemale = male_rate/female_rate"
   ]
  },
  {
   "cell_type": "code",
   "execution_count": 74,
   "metadata": {},
   "outputs": [
    {
     "name": "stdout",
     "output_type": "stream",
     "text": [
      "2.3090925540687834\n"
     ]
    }
   ],
   "source": [
    "print (ratio_maleFemale)"
   ]
  },
  {
   "cell_type": "code",
   "execution_count": 103,
   "metadata": {
    "collapsed": true
   },
   "outputs": [],
   "source": [
    "#selecting only drivers >= 17\n",
    "df_age = df_merged_av[(df_merged_av.Age_of_Driver >= 17 )]"
   ]
  },
  {
   "cell_type": "code",
   "execution_count": 109,
   "metadata": {},
   "outputs": [],
   "source": [
    "dict_age = dict(list(df_age.groupby([\"Age_of_Driver\"])[\"Accident_Index\"]))"
   ]
  },
  {
   "cell_type": "code",
   "execution_count": 111,
   "metadata": {
    "collapsed": true
   },
   "outputs": [],
   "source": [
    "#get array of age and acciden_count variables\n",
    "age = []\n",
    "accidents = []\n",
    "for i in dict_age:\n",
    "    age.append(i)\n",
    "    accidents.append(len(dict_age[i]))"
   ]
  },
  {
   "cell_type": "code",
   "execution_count": 149,
   "metadata": {},
   "outputs": [],
   "source": [
    "X = np.array(age)\n",
    "Y = np.array(accidents)\n",
    "param, cov = curve_fit(lambda x,a,b: a*np.exp(b*x),  X,  Y,  p0=(1, 0.1))"
   ]
  },
  {
   "cell_type": "code",
   "execution_count": 151,
   "metadata": {},
   "outputs": [
    {
     "name": "stdout",
     "output_type": "stream",
     "text": [
      "-0.0286469846105\n"
     ]
    }
   ],
   "source": [
    "# to get the rate of in increase now rate of decay will be -1*rate of increase\n",
    "print (param[1])\n"
   ]
  },
  {
   "cell_type": "code",
   "execution_count": 155,
   "metadata": {},
   "outputs": [],
   "source": [
    "#drop all the null values in logitude and latitude columns\n",
    "data_area = df_accidents.dropna(subset=['Longitude','Latitude'])"
   ]
  },
  {
   "cell_type": "code",
   "execution_count": 182,
   "metadata": {},
   "outputs": [],
   "source": [
    "#group by Local_Authority_(District) and calculate standard deviation for longitude and latitude\n",
    "df_long_std = data_area.groupby([\"Local_Authority_(District)\"]).Longitude.agg(lambda x: np.std(x))\n",
    "df_lat_std = data_area.groupby([\"Local_Authority_(District)\"]).Latitude.agg(lambda x: np.std(x))\n"
   ]
  },
  {
   "cell_type": "code",
   "execution_count": 188,
   "metadata": {},
   "outputs": [],
   "source": [
    "long_std = list(df_long_std)\n",
    "lat_std = list(df_lat_std)\n"
   ]
  },
  {
   "cell_type": "code",
   "execution_count": 192,
   "metadata": {
    "collapsed": true
   },
   "outputs": [],
   "source": [
    "#function to get list of all areas\n",
    "def get_area(x,y):\n",
    "    area = []\n",
    "    for i in range(len(x)):\n",
    "        area.append(math.pi*x[i]*y[i])\n",
    "    return area\n",
    "    "
   ]
  },
  {
   "cell_type": "code",
   "execution_count": 193,
   "metadata": {},
   "outputs": [],
   "source": [
    "area = get_area(long_std,lat_std)"
   ]
  },
  {
   "cell_type": "code",
   "execution_count": 200,
   "metadata": {},
   "outputs": [],
   "source": [
    "max_area = max(area)"
   ]
  },
  {
   "cell_type": "code",
   "execution_count": 201,
   "metadata": {},
   "outputs": [
    {
     "name": "stdout",
     "output_type": "stream",
     "text": [
      "1.09117187667\n"
     ]
    }
   ],
   "source": [
    "print (max_area)"
   ]
  },
  {
   "cell_type": "code",
   "execution_count": null,
   "metadata": {
    "collapsed": true
   },
   "outputs": [],
   "source": []
  }
 ],
 "metadata": {
  "kernelspec": {
   "display_name": "Python 3",
   "language": "python",
   "name": "python3"
  },
  "language_info": {
   "codemirror_mode": {
    "name": "ipython",
    "version": 3
   },
   "file_extension": ".py",
   "mimetype": "text/x-python",
   "name": "python",
   "nbconvert_exporter": "python",
   "pygments_lexer": "ipython3",
   "version": "3.6.3"
  }
 },
 "nbformat": 4,
 "nbformat_minor": 2
}
